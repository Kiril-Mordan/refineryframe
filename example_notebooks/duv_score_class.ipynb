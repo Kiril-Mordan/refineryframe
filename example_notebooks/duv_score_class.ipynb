{
 "cells": [
  {
   "cell_type": "code",
   "execution_count": 1,
   "id": "3b1d10dd-0445-48b9-8c69-8a93188443d1",
   "metadata": {},
   "outputs": [],
   "source": [
    "import os \n",
    "import sys \n",
    "sys.path.append(os.path.dirname(sys.path[0])) \n",
    "from refineryframe.tns import *"
   ]
  },
  {
   "cell_type": "markdown",
   "id": "14680573-449b-4d72-97ed-f9af9d40798a",
   "metadata": {},
   "source": [
    "### Creating example data (exceptionally messy dataframe)"
   ]
  },
  {
   "cell_type": "code",
   "execution_count": 2,
   "id": "d2058873",
   "metadata": {},
   "outputs": [
    {
     "data": {
      "text/html": [
       "<div>\n",
       "<style scoped>\n",
       "    .dataframe tbody tr th:only-of-type {\n",
       "        vertical-align: middle;\n",
       "    }\n",
       "\n",
       "    .dataframe tbody tr th {\n",
       "        vertical-align: top;\n",
       "    }\n",
       "\n",
       "    .dataframe thead th {\n",
       "        text-align: right;\n",
       "    }\n",
       "</style>\n",
       "<table border=\"1\" class=\"dataframe\">\n",
       "  <thead>\n",
       "    <tr style=\"text-align: right;\">\n",
       "      <th></th>\n",
       "      <th>num_id</th>\n",
       "      <th>NumericColumn</th>\n",
       "      <th>NumericColumn_exepted</th>\n",
       "      <th>NumericColumn2</th>\n",
       "      <th>NumericColumn3</th>\n",
       "      <th>DateColumn</th>\n",
       "      <th>DateColumn2</th>\n",
       "      <th>DateColumn3</th>\n",
       "      <th>CharColumn</th>\n",
       "    </tr>\n",
       "  </thead>\n",
       "  <tbody>\n",
       "    <tr>\n",
       "      <th>0</th>\n",
       "      <td>1</td>\n",
       "      <td>1.0</td>\n",
       "      <td>1.0</td>\n",
       "      <td>NaN</td>\n",
       "      <td>1</td>\n",
       "      <td>2022-01-01</td>\n",
       "      <td>NaT</td>\n",
       "      <td>2122-05-01</td>\n",
       "      <td>Fół</td>\n",
       "    </tr>\n",
       "    <tr>\n",
       "      <th>1</th>\n",
       "      <td>2</td>\n",
       "      <td>-inf</td>\n",
       "      <td>-996.0</td>\n",
       "      <td>NaN</td>\n",
       "      <td>2</td>\n",
       "      <td>2022-01-02</td>\n",
       "      <td>2022-01-01</td>\n",
       "      <td>2022-01-01</td>\n",
       "      <td>None</td>\n",
       "    </tr>\n",
       "    <tr>\n",
       "      <th>2</th>\n",
       "      <td>3</td>\n",
       "      <td>inf</td>\n",
       "      <td>inf</td>\n",
       "      <td>1.0</td>\n",
       "      <td>3</td>\n",
       "      <td>2022-01-03</td>\n",
       "      <td>NaT</td>\n",
       "      <td>2021-01-01</td>\n",
       "      <td>NaN</td>\n",
       "    </tr>\n",
       "    <tr>\n",
       "      <th>3</th>\n",
       "      <td>4</td>\n",
       "      <td>NaN</td>\n",
       "      <td>NaN</td>\n",
       "      <td>NaN</td>\n",
       "      <td>4</td>\n",
       "      <td>2022-01-04</td>\n",
       "      <td>NaT</td>\n",
       "      <td>1000-01-09</td>\n",
       "      <td>nót eXpęćTęd</td>\n",
       "    </tr>\n",
       "    <tr>\n",
       "      <th>4</th>\n",
       "      <td>5</td>\n",
       "      <td>NaN</td>\n",
       "      <td>NaN</td>\n",
       "      <td>NaN</td>\n",
       "      <td>5</td>\n",
       "      <td>2022-01-05</td>\n",
       "      <td>NaT</td>\n",
       "      <td>1850-01-09</td>\n",
       "      <td></td>\n",
       "    </tr>\n",
       "  </tbody>\n",
       "</table>\n",
       "</div>"
      ],
      "text/plain": [
       "   num_id  NumericColumn  NumericColumn_exepted  NumericColumn2  \\\n",
       "0       1            1.0                    1.0             NaN   \n",
       "1       2           -inf                 -996.0             NaN   \n",
       "2       3            inf                    inf             1.0   \n",
       "3       4            NaN                    NaN             NaN   \n",
       "4       5            NaN                    NaN             NaN   \n",
       "\n",
       "   NumericColumn3 DateColumn DateColumn2 DateColumn3    CharColumn  \n",
       "0               1 2022-01-01         NaT  2122-05-01           Fół  \n",
       "1               2 2022-01-02  2022-01-01  2022-01-01          None  \n",
       "2               3 2022-01-03         NaT  2021-01-01           NaN  \n",
       "3               4 2022-01-04         NaT  1000-01-09  nót eXpęćTęd  \n",
       "4               5 2022-01-05         NaT  1850-01-09                "
      ]
     },
     "execution_count": 2,
     "metadata": {},
     "output_type": "execute_result"
    }
   ],
   "source": [
    "df = pd.DataFrame({\n",
    "    'num_id' : [1, 2, 3, 4, 5],\n",
    "    'NumericColumn': [1, -np.inf, np.inf,np.nan, None],\n",
    "    'NumericColumn_exepted': [1, -996, np.inf,np.nan, None],\n",
    "    'NumericColumn2': [None, None, 1,None, None],\n",
    "    'NumericColumn3': [1, 2, 3, 4, 5],\n",
    "    'DateColumn': pd.date_range(start='2022-01-01', periods=5),\n",
    "    'DateColumn2': [pd.NaT,pd.to_datetime('2022-01-01'),pd.NaT,pd.NaT,pd.NaT],\n",
    "    'DateColumn3': ['2122-05-01',\n",
    "                    '2022-01-01',\n",
    "                    '2021-01-01',\n",
    "                    '1000-01-09',\n",
    "                    '1850-01-09'],\n",
    "    'CharColumn': ['Fół', None, np.nan, 'nót eXpęćTęd', '']\n",
    "})\n",
    "\n",
    "df"
   ]
  },
  {
   "cell_type": "markdown",
   "id": "ef2ca7d8-a488-49e9-a718-45b1b342bcba",
   "metadata": {},
   "source": [
    "#### Defining specification for the dataframe"
   ]
  },
  {
   "cell_type": "code",
   "execution_count": 3,
   "id": "335de874-067c-4e87-b3aa-e8d5dc1d73c6",
   "metadata": {},
   "outputs": [],
   "source": [
    "MISSING_TYPES = {'date_not_delivered': '1850-01-09',\n",
    "                 'date_other_missing_type': '1850-01-08',\n",
    "                 'numeric_not_delivered': -999,\n",
    "                 'character_not_delivered': 'missing'}"
   ]
  },
  {
   "cell_type": "code",
   "execution_count": 4,
   "id": "e6403106-7885-4d95-82db-cbbc751c6529",
   "metadata": {},
   "outputs": [],
   "source": [
    "unexpected_exceptions = {\n",
    "    \"col_names_types\": \"NONE\",\n",
    "    \"missing_values\": [\"NumericColumn_exepted\"],\n",
    "    \"missing_types\": \"NONE\",\n",
    "    \"inf_values\": \"NONE\",\n",
    "    \"date_format\": \"NONE\",\n",
    "    \"duplicates\": \"ALL\",\n",
    "    \"date_range\": \"NONE\",\n",
    "    \"numeric_range\": \"NONE\"\n",
    "}"
   ]
  },
  {
   "cell_type": "code",
   "execution_count": 5,
   "id": "d4a2baea-34e7-42b6-8277-f5901a525b4b",
   "metadata": {},
   "outputs": [],
   "source": [
    "replace_dict = {-996 : -999,\n",
    "                \"1000-01-09\": \"1850-01-09\"}"
   ]
  },
  {
   "cell_type": "markdown",
   "id": "b7053ebf-9c9e-4838-bdc1-ff5063eff426",
   "metadata": {},
   "source": [
    "### Initializing TnS class"
   ]
  },
  {
   "cell_type": "code",
   "execution_count": 6,
   "id": "b4e38ec1-37ab-48ac-a9d1-64a9e260236d",
   "metadata": {},
   "outputs": [],
   "source": [
    "tns = Refiner(dataframe = df,\n",
    "          replace_dict = replace_dict,\n",
    "          unexpected_exceptions_duv = unexpected_exceptions)"
   ]
  },
  {
   "cell_type": "markdown",
   "id": "90bf3ed7-310f-46a5-acca-6ca914a038db",
   "metadata": {},
   "source": [
    "##### function for detecting column types"
   ]
  },
  {
   "cell_type": "code",
   "execution_count": 7,
   "id": "291e1e90-b76b-4738-bf44-0fa8ce75d2e1",
   "metadata": {},
   "outputs": [
    {
     "data": {
      "text/plain": [
       "{'num_id': 'int64',\n",
       " 'NumericColumn': 'float64',\n",
       " 'NumericColumn_exepted': 'float64',\n",
       " 'NumericColumn2': 'float64',\n",
       " 'NumericColumn3': 'int64',\n",
       " 'DateColumn': 'datetime64[ns]',\n",
       " 'DateColumn2': 'datetime64[ns]',\n",
       " 'DateColumn3': 'object',\n",
       " 'CharColumn': 'object'}"
      ]
     },
     "execution_count": 7,
     "metadata": {},
     "output_type": "execute_result"
    }
   ],
   "source": [
    "tns.get_type_dict_from_dataframe()"
   ]
  },
  {
   "cell_type": "markdown",
   "id": "a76b9f23-696b-480e-8483-cb02526ac7b7",
   "metadata": {},
   "source": [
    "##### adding expected types"
   ]
  },
  {
   "cell_type": "code",
   "execution_count": 8,
   "id": "277ecc53-7d54-4d27-85be-ba809febec86",
   "metadata": {},
   "outputs": [],
   "source": [
    "types_dict_str = {'num_id' : 'int64', \n",
    "                   'NumericColumn' : 'float64', \n",
    "                   'NumericColumn_exepted' : 'float64', \n",
    "                   'NumericColumn2' : 'float64', \n",
    "                   'NumericColumn3' : 'int64', \n",
    "                   'DateColumn' : 'datetime64[ns]', \n",
    "                   'DateColumn2' : 'datetime64[ns]', \n",
    "                   'DateColumn3' : 'datetime64[ns]', \n",
    "                   'CharColumn' : 'object'}"
   ]
  },
  {
   "cell_type": "markdown",
   "id": "dbfc882d-5bd2-49c4-9bd1-cbb0904bff8b",
   "metadata": {},
   "source": [
    "##### moulding types"
   ]
  },
  {
   "cell_type": "code",
   "execution_count": 9,
   "id": "6c88c6d6-d1f3-41af-b64b-0e469c0e89c0",
   "metadata": {},
   "outputs": [],
   "source": [
    "tns.set_types(type_dict = types_dict_str)"
   ]
  },
  {
   "cell_type": "code",
   "execution_count": 10,
   "id": "a251dbed-851f-40f8-bbd3-556605c2593b",
   "metadata": {},
   "outputs": [
    {
     "data": {
      "text/plain": [
       "{'num_id': 'int64',\n",
       " 'NumericColumn': 'float64',\n",
       " 'NumericColumn_exepted': 'float64',\n",
       " 'NumericColumn2': 'float64',\n",
       " 'NumericColumn3': 'int64',\n",
       " 'DateColumn': 'datetime64[ns]',\n",
       " 'DateColumn2': 'datetime64[ns]',\n",
       " 'DateColumn3': 'datetime64[ns]',\n",
       " 'CharColumn': 'object'}"
      ]
     },
     "execution_count": 10,
     "metadata": {},
     "output_type": "execute_result"
    }
   ],
   "source": [
    "tns.get_type_dict_from_dataframe()"
   ]
  },
  {
   "cell_type": "markdown",
   "id": "c3c4a99b-8fa6-449f-aa47-e84cf264bb82",
   "metadata": {},
   "source": [
    "#### Check independent conditions"
   ]
  },
  {
   "cell_type": "code",
   "execution_count": 11,
   "id": "399512ec-87a9-4e0e-8bc2-f7fcb250713a",
   "metadata": {},
   "outputs": [
    {
     "name": "stderr",
     "output_type": "stream",
     "text": [
      "WARNING:Refiner:Column NumericColumn_exepted: (-999) : 1 : 20.00%\n",
      "WARNING:Refiner:Column DateColumn3: (1850-01-09) : 2 : 40.00%\n",
      "WARNING:Refiner:Column NumericColumn: (NA) : 2 : 40.00%\n",
      "WARNING:Refiner:Column NumericColumn_exepted: (NA) : 2 : 40.00%\n",
      "WARNING:Refiner:Column NumericColumn2: (NA) : 4 : 80.00%\n",
      "WARNING:Refiner:Column DateColumn2: (NA) : 4 : 80.00%\n",
      "WARNING:Refiner:Column CharColumn: (NA) : 2 : 40.00%\n",
      "WARNING:Refiner:Column NumericColumn: (INF) : 2 : 40.00%\n",
      "WARNING:Refiner:Column NumericColumn_exepted: (INF) : 1 : 20.00%\n",
      "WARNING:Refiner:Column DateColumn2 has non-date values or unexpected format.\n"
     ]
    }
   ],
   "source": [
    "tns.check_missing_types()\n",
    "tns.check_missing_values()\n",
    "tns.check_inf_values()\n",
    "tns.check_col_names_types()\n",
    "tns.check_date_format()\n",
    "tns.check_duplicates()\n",
    "tns.check_numeric_range()"
   ]
  },
  {
   "cell_type": "markdown",
   "id": "b846eeb0-bdb1-460a-92ef-a222755b2f41",
   "metadata": {},
   "source": [
    "#### Using the main function to detect unexpected values"
   ]
  },
  {
   "cell_type": "code",
   "execution_count": 12,
   "id": "c570a32e-e473-4d43-97ff-42803b5bd394",
   "metadata": {},
   "outputs": [
    {
     "name": "stderr",
     "output_type": "stream",
     "text": [
      "DEBUG:Refiner:=== checking column names and types\n",
      "DEBUG:Refiner:=== checking for presence of missing values\n",
      "WARNING:root:Column CharColumn: (NA) : 2 : 40.00%\n",
      "WARNING:root:Column DateColumn2: (NA) : 4 : 80.00%\n",
      "WARNING:root:Column NumericColumn: (NA) : 2 : 40.00%\n",
      "WARNING:root:Column NumericColumn2: (NA) : 4 : 80.00%\n",
      "DEBUG:Refiner:=== checking for presence of missing types\n",
      "WARNING:root:Column DateColumn3: (1850-01-09) : 2 : 40.00%\n",
      "WARNING:root:Column NumericColumn_exepted: (-999) : 1 : 20.00%\n",
      "DEBUG:Refiner:=== checking propper date format\n",
      "WARNING:root:Column DateColumn2 has non-date values or unexpected format.\n",
      "DEBUG:Refiner:=== checking expected date range\n",
      "WARNING:root:** Not all dates in DateColumn are later than DateColumn3\n",
      "WARNING:root:Column DateColumn : future date : 4 : 80.00%\n",
      "DEBUG:Refiner:=== checking for presense of inf values in numeric colums\n",
      "WARNING:root:Column NumericColumn: (INF) : 2 : 40.00%\n",
      "WARNING:root:Column NumericColumn_exepted: (INF) : 1 : 20.00%\n",
      "DEBUG:Refiner:=== checking expected numeric range\n",
      "WARNING:Refiner:Percentage of passed tests: 50.00%\n"
     ]
    }
   ],
   "source": [
    "tns.detect_unexpected_values(earliest_date = \"1920-01-01\",\n",
    "                         latest_date = \"DateColumn3\")"
   ]
  },
  {
   "cell_type": "code",
   "execution_count": 13,
   "id": "15efeefd-dc70-4264-984b-81d219f321b1",
   "metadata": {},
   "outputs": [
    {
     "data": {
      "text/plain": [
       "0.5"
      ]
     },
     "execution_count": 13,
     "metadata": {},
     "output_type": "execute_result"
    }
   ],
   "source": [
    "tns.duv_score"
   ]
  },
  {
   "cell_type": "markdown",
   "id": "0ace96bf",
   "metadata": {},
   "source": [
    "#### Using function to replace unexpected values with missing types"
   ]
  },
  {
   "cell_type": "code",
   "execution_count": 14,
   "id": "6dbb535d",
   "metadata": {},
   "outputs": [
    {
     "name": "stderr",
     "output_type": "stream",
     "text": [
      "DEBUG:Refiner:=== replacing missing values in category cols with missing types\n",
      "DEBUG:Refiner:=== replacing all upper case characters with lower case\n",
      "DEBUG:Refiner:=== replacing character unicode to latin\n",
      "DEBUG:Refiner:=== replacing missing values in date cols with missing types\n",
      "DEBUG:Refiner:=== replacing missing values in numeric cols with missing types\n",
      "DEBUG:Refiner:=== replacing values outside of expected date range\n",
      "DEBUG:Refiner:=== replacing values outside of expected numeric range\n",
      "DEBUG:Refiner:** Usable values in the dataframe:  44.44%\n",
      "DEBUG:Refiner:** Uncorrected data quality score:  32.22%\n",
      "DEBUG:Refiner:** Corrected data quality score:  52.57%\n"
     ]
    }
   ],
   "source": [
    "tns.replace_unexpected_values(numeric_lower_bound = \"NumericColumn3\",\n",
    "                                numeric_upper_bound = 4,\n",
    "                                earliest_date = \"1920-01-02\",\n",
    "                                latest_date = \"DateColumn2\",\n",
    "                                unexpected_exceptions = {\"irregular_values\": \"NONE\",\n",
    "                                                            \"date_range\": \"DateColumn\",\n",
    "                                                            \"numeric_range\": \"NONE\",\n",
    "                                                            \"capitalization\": \"NONE\",\n",
    "                                                            \"unicode_character\": \"NONE\"})\n"
   ]
  },
  {
   "cell_type": "code",
   "execution_count": 15,
   "id": "a95e8116-8120-439f-b1a9-f1056fea3956",
   "metadata": {},
   "outputs": [
    {
     "data": {
      "text/html": [
       "<div>\n",
       "<style scoped>\n",
       "    .dataframe tbody tr th:only-of-type {\n",
       "        vertical-align: middle;\n",
       "    }\n",
       "\n",
       "    .dataframe tbody tr th {\n",
       "        vertical-align: top;\n",
       "    }\n",
       "\n",
       "    .dataframe thead th {\n",
       "        text-align: right;\n",
       "    }\n",
       "</style>\n",
       "<table border=\"1\" class=\"dataframe\">\n",
       "  <thead>\n",
       "    <tr style=\"text-align: right;\">\n",
       "      <th></th>\n",
       "      <th>num_id</th>\n",
       "      <th>NumericColumn</th>\n",
       "      <th>NumericColumn_exepted</th>\n",
       "      <th>NumericColumn2</th>\n",
       "      <th>NumericColumn3</th>\n",
       "      <th>DateColumn</th>\n",
       "      <th>DateColumn2</th>\n",
       "      <th>DateColumn3</th>\n",
       "      <th>CharColumn</th>\n",
       "    </tr>\n",
       "  </thead>\n",
       "  <tbody>\n",
       "    <tr>\n",
       "      <th>0</th>\n",
       "      <td>1</td>\n",
       "      <td>1.0</td>\n",
       "      <td>1.0</td>\n",
       "      <td>-999.0</td>\n",
       "      <td>1</td>\n",
       "      <td>2022-01-01</td>\n",
       "      <td>1850-01-09</td>\n",
       "      <td>1850-01-09</td>\n",
       "      <td>fol</td>\n",
       "    </tr>\n",
       "    <tr>\n",
       "      <th>1</th>\n",
       "      <td>2</td>\n",
       "      <td>-999.0</td>\n",
       "      <td>-999.0</td>\n",
       "      <td>-999.0</td>\n",
       "      <td>2</td>\n",
       "      <td>2022-01-02</td>\n",
       "      <td>2022-01-01</td>\n",
       "      <td>2022-01-01</td>\n",
       "      <td>missing</td>\n",
       "    </tr>\n",
       "    <tr>\n",
       "      <th>2</th>\n",
       "      <td>3</td>\n",
       "      <td>-999.0</td>\n",
       "      <td>-999.0</td>\n",
       "      <td>-999.0</td>\n",
       "      <td>3</td>\n",
       "      <td>2022-01-03</td>\n",
       "      <td>1850-01-09</td>\n",
       "      <td>1850-01-09</td>\n",
       "      <td>missing</td>\n",
       "    </tr>\n",
       "    <tr>\n",
       "      <th>3</th>\n",
       "      <td>4</td>\n",
       "      <td>-999.0</td>\n",
       "      <td>-999.0</td>\n",
       "      <td>-999.0</td>\n",
       "      <td>4</td>\n",
       "      <td>2022-01-04</td>\n",
       "      <td>1850-01-09</td>\n",
       "      <td>1850-01-09</td>\n",
       "      <td>not expected</td>\n",
       "    </tr>\n",
       "    <tr>\n",
       "      <th>4</th>\n",
       "      <td>5</td>\n",
       "      <td>-999.0</td>\n",
       "      <td>-999.0</td>\n",
       "      <td>-999.0</td>\n",
       "      <td>-999</td>\n",
       "      <td>2022-01-05</td>\n",
       "      <td>1850-01-09</td>\n",
       "      <td>1850-01-09</td>\n",
       "      <td>missing</td>\n",
       "    </tr>\n",
       "  </tbody>\n",
       "</table>\n",
       "</div>"
      ],
      "text/plain": [
       "  num_id  NumericColumn  NumericColumn_exepted  NumericColumn2  \\\n",
       "0      1            1.0                    1.0          -999.0   \n",
       "1      2         -999.0                 -999.0          -999.0   \n",
       "2      3         -999.0                 -999.0          -999.0   \n",
       "3      4         -999.0                 -999.0          -999.0   \n",
       "4      5         -999.0                 -999.0          -999.0   \n",
       "\n",
       "   NumericColumn3 DateColumn DateColumn2 DateColumn3    CharColumn  \n",
       "0               1 2022-01-01  1850-01-09  1850-01-09           fol  \n",
       "1               2 2022-01-02  2022-01-01  2022-01-01       missing  \n",
       "2               3 2022-01-03  1850-01-09  1850-01-09       missing  \n",
       "3               4 2022-01-04  1850-01-09  1850-01-09  not expected  \n",
       "4            -999 2022-01-05  1850-01-09  1850-01-09       missing  "
      ]
     },
     "execution_count": 15,
     "metadata": {},
     "output_type": "execute_result"
    }
   ],
   "source": [
    "tns.dataframe"
   ]
  },
  {
   "cell_type": "markdown",
   "id": "a354d4b4",
   "metadata": {},
   "source": [
    "#### Use complex targeted conditions"
   ]
  },
  {
   "cell_type": "code",
   "execution_count": 16,
   "id": "355abbd5",
   "metadata": {},
   "outputs": [],
   "source": [
    "unexpected_conditions = {\n",
    "    '1': {\n",
    "        'description': 'Replace numeric missing with with zero',\n",
    "        'group': 'regex_columns',\n",
    "        'features': r'^Numeric',\n",
    "        'query': \"{col} < 0\",\n",
    "        'warning': False,\n",
    "        'set': 0\n",
    "    },\n",
    "    '2': {\n",
    "        'description': \"Clean text column from '-ing' endings and 'not ' beginings\",\n",
    "        'group': 'regex clean',\n",
    "        'features': ['CharColumn'],\n",
    "        'query': [r'ing', r'^not.'],\n",
    "        'warning': False,\n",
    "        'set': ''\n",
    "    },\n",
    "    '3': {\n",
    "        'description': \"Replace numeric values in certain column with zeros if > 2\",\n",
    "        'group': 'multicol mapping',\n",
    "        'features': ['NumericColumn3'],\n",
    "        'query': '{col} > 2',\n",
    "        'warning': False,\n",
    "        'set': 0\n",
    "    },\n",
    "    '4': {\n",
    "        'description': \"Replace strings with values if some part of the string is detected\",\n",
    "        'group': 'string check',\n",
    "        'features': ['CharColumn'],\n",
    "        'query': f\"CharColumn.str.contains('cted', regex = True)\",\n",
    "        'warning': False,\n",
    "        'set': 'miss'\n",
    "    }\n",
    "    }"
   ]
  },
  {
   "cell_type": "code",
   "execution_count": 17,
   "id": "3a494cdf",
   "metadata": {},
   "outputs": [
    {
     "name": "stderr",
     "output_type": "stream",
     "text": [
      "DEBUG:Refiner:=== replacing missing values in category cols with missing types\n",
      "DEBUG:Refiner:=== replacing all upper case characters with lower case\n",
      "DEBUG:Refiner:=== replacing character unicode to latin\n",
      "DEBUG:Refiner:=== replacing with additional cons\n",
      "DEBUG:root:Replace numeric missing with with zero\n",
      "DEBUG:root:Clean text column from '-ing' endings and 'not ' beginings\n",
      "DEBUG:root:Replace numeric values in certain column with zeros if > 2\n",
      "DEBUG:root:Replace strings with values if some part of the string is detected\n",
      "DEBUG:Refiner:=== replacing missing values in date cols with missing types\n",
      "DEBUG:Refiner:=== replacing missing values in numeric cols with missing types\n",
      "DEBUG:Refiner:=== replacing values outside of expected date range\n",
      "DEBUG:Refiner:=== replacing values outside of expected numeric range\n",
      "DEBUG:Refiner:** Usable values in the dataframe:  82.22%\n",
      "DEBUG:Refiner:** Uncorrected data quality score:  88.89%\n",
      "DEBUG:Refiner:** Corrected data quality score:  97.53%\n"
     ]
    }
   ],
   "source": [
    "tns.replace_unexpected_values(unexpected_conditions = unexpected_conditions)"
   ]
  },
  {
   "cell_type": "code",
   "execution_count": 18,
   "id": "91ea6189",
   "metadata": {},
   "outputs": [
    {
     "data": {
      "text/html": [
       "<div>\n",
       "<style scoped>\n",
       "    .dataframe tbody tr th:only-of-type {\n",
       "        vertical-align: middle;\n",
       "    }\n",
       "\n",
       "    .dataframe tbody tr th {\n",
       "        vertical-align: top;\n",
       "    }\n",
       "\n",
       "    .dataframe thead th {\n",
       "        text-align: right;\n",
       "    }\n",
       "</style>\n",
       "<table border=\"1\" class=\"dataframe\">\n",
       "  <thead>\n",
       "    <tr style=\"text-align: right;\">\n",
       "      <th></th>\n",
       "      <th>num_id</th>\n",
       "      <th>NumericColumn</th>\n",
       "      <th>NumericColumn_exepted</th>\n",
       "      <th>NumericColumn2</th>\n",
       "      <th>NumericColumn3</th>\n",
       "      <th>DateColumn</th>\n",
       "      <th>DateColumn2</th>\n",
       "      <th>DateColumn3</th>\n",
       "      <th>CharColumn</th>\n",
       "    </tr>\n",
       "  </thead>\n",
       "  <tbody>\n",
       "    <tr>\n",
       "      <th>0</th>\n",
       "      <td>1</td>\n",
       "      <td>1.0</td>\n",
       "      <td>1.0</td>\n",
       "      <td>0.0</td>\n",
       "      <td>1</td>\n",
       "      <td>2022-01-01</td>\n",
       "      <td>1850-01-09</td>\n",
       "      <td>1850-01-09</td>\n",
       "      <td>fol</td>\n",
       "    </tr>\n",
       "    <tr>\n",
       "      <th>1</th>\n",
       "      <td>2</td>\n",
       "      <td>0.0</td>\n",
       "      <td>0.0</td>\n",
       "      <td>0.0</td>\n",
       "      <td>2</td>\n",
       "      <td>2022-01-02</td>\n",
       "      <td>2022-01-01</td>\n",
       "      <td>2022-01-01</td>\n",
       "      <td>miss</td>\n",
       "    </tr>\n",
       "    <tr>\n",
       "      <th>2</th>\n",
       "      <td>3</td>\n",
       "      <td>0.0</td>\n",
       "      <td>0.0</td>\n",
       "      <td>0.0</td>\n",
       "      <td>0</td>\n",
       "      <td>2022-01-03</td>\n",
       "      <td>1850-01-09</td>\n",
       "      <td>1850-01-09</td>\n",
       "      <td>miss</td>\n",
       "    </tr>\n",
       "    <tr>\n",
       "      <th>3</th>\n",
       "      <td>4</td>\n",
       "      <td>0.0</td>\n",
       "      <td>0.0</td>\n",
       "      <td>0.0</td>\n",
       "      <td>0</td>\n",
       "      <td>2022-01-04</td>\n",
       "      <td>1850-01-09</td>\n",
       "      <td>1850-01-09</td>\n",
       "      <td>miss</td>\n",
       "    </tr>\n",
       "    <tr>\n",
       "      <th>4</th>\n",
       "      <td>5</td>\n",
       "      <td>0.0</td>\n",
       "      <td>0.0</td>\n",
       "      <td>0.0</td>\n",
       "      <td>0</td>\n",
       "      <td>2022-01-05</td>\n",
       "      <td>1850-01-09</td>\n",
       "      <td>1850-01-09</td>\n",
       "      <td>miss</td>\n",
       "    </tr>\n",
       "  </tbody>\n",
       "</table>\n",
       "</div>"
      ],
      "text/plain": [
       "  num_id  NumericColumn  NumericColumn_exepted  NumericColumn2  \\\n",
       "0      1            1.0                    1.0             0.0   \n",
       "1      2            0.0                    0.0             0.0   \n",
       "2      3            0.0                    0.0             0.0   \n",
       "3      4            0.0                    0.0             0.0   \n",
       "4      5            0.0                    0.0             0.0   \n",
       "\n",
       "   NumericColumn3 DateColumn DateColumn2 DateColumn3 CharColumn  \n",
       "0               1 2022-01-01  1850-01-09  1850-01-09        fol  \n",
       "1               2 2022-01-02  2022-01-01  2022-01-01       miss  \n",
       "2               0 2022-01-03  1850-01-09  1850-01-09       miss  \n",
       "3               0 2022-01-04  1850-01-09  1850-01-09       miss  \n",
       "4               0 2022-01-05  1850-01-09  1850-01-09       miss  "
      ]
     },
     "execution_count": 18,
     "metadata": {},
     "output_type": "execute_result"
    }
   ],
   "source": [
    "tns.dataframe"
   ]
  },
  {
   "cell_type": "code",
   "execution_count": 19,
   "id": "13af7818-44fe-4a13-86f7-368ec5560cc1",
   "metadata": {},
   "outputs": [
    {
     "name": "stderr",
     "output_type": "stream",
     "text": [
      "DEBUG:Refiner:=== checking column names and types\n",
      "DEBUG:Refiner:=== checking for presence of missing values\n",
      "DEBUG:Refiner:=== checking propper date format\n",
      "DEBUG:Refiner:=== checking expected date range\n",
      "DEBUG:Refiner:=== checking for presense of inf values in numeric colums\n",
      "DEBUG:Refiner:=== checking expected numeric range\n"
     ]
    }
   ],
   "source": [
    "tns.detect_unexpected_values(unexpected_exceptions = {\n",
    "    \"col_names_types\": \"NONE\",\n",
    "    \"missing_values\": \"NONE\",\n",
    "    \"missing_types\": \"ALL\",\n",
    "    \"inf_values\": \"NONE\",\n",
    "    \"date_format\": \"NONE\",\n",
    "    \"duplicates\": \"ALL\",\n",
    "    \"date_range\": \"NONE\",\n",
    "    \"numeric_range\": \"NONE\"\n",
    "})"
   ]
  },
  {
   "cell_type": "markdown",
   "id": "0e75940c-e642-4836-8561-f8d883ff425e",
   "metadata": {},
   "source": [
    "#### Scores"
   ]
  },
  {
   "cell_type": "code",
   "execution_count": 20,
   "id": "5d6ee4e3-ded0-4ee2-8658-220cc1817b13",
   "metadata": {},
   "outputs": [
    {
     "name": "stdout",
     "output_type": "stream",
     "text": [
      "duv_score: 1.0\n",
      "ruv_score0: 0.8222\n",
      "ruv_score1: 0.8889\n",
      "ruv_score2: 0.9753\n"
     ]
    }
   ],
   "source": [
    "print(f'duv_score: {tns.duv_score :.4}')\n",
    "print(f'ruv_score0: {tns.ruv_score0 :.4}')\n",
    "print(f'ruv_score1: {tns.ruv_score1 :.4}')\n",
    "print(f'ruv_score2: {tns.ruv_score2 :.4}')"
   ]
  }
 ],
 "metadata": {
  "kernelspec": {
   "display_name": "Python 3 (ipykernel)",
   "language": "python",
   "name": "python3"
  },
  "language_info": {
   "codemirror_mode": {
    "name": "ipython",
    "version": 3
   },
   "file_extension": ".py",
   "mimetype": "text/x-python",
   "name": "python",
   "nbconvert_exporter": "python",
   "pygments_lexer": "ipython3",
   "version": "3.9.16"
  },
  "vscode": {
   "interpreter": {
    "hash": "7cf2087be695df4a22794687569e2b1da62e798e075897974c6ba7e5291369f7"
   }
  }
 },
 "nbformat": 4,
 "nbformat_minor": 5
}
