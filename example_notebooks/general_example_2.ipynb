{
 "cells": [
  {
   "cell_type": "markdown",
   "id": "ced7994f",
   "metadata": {},
   "source": [
    "### Refiner class settings <a name=\"refiner-class-settings\"></a>"
   ]
  },
  {
   "cell_type": "code",
   "execution_count": 21,
   "id": "3b1d10dd-0445-48b9-8c69-8a93188443d1",
   "metadata": {
    "tags": [
     "excluded_cells"
    ]
   },
   "outputs": [],
   "source": [
    "import os \n",
    "import sys \n",
    "import numpy as np\n",
    "import pandas as pd\n",
    "import logging\n",
    "sys.path.append(os.path.dirname(sys.path[0])) \n",
    "from refineryframe.refiner import Refiner"
   ]
  },
  {
   "cell_type": "code",
   "execution_count": 22,
   "id": "d2058873",
   "metadata": {
    "tags": [
     "excluded_cells"
    ]
   },
   "outputs": [
    {
     "data": {
      "text/html": [
       "<div>\n",
       "<style scoped>\n",
       "    .dataframe tbody tr th:only-of-type {\n",
       "        vertical-align: middle;\n",
       "    }\n",
       "\n",
       "    .dataframe tbody tr th {\n",
       "        vertical-align: top;\n",
       "    }\n",
       "\n",
       "    .dataframe thead th {\n",
       "        text-align: right;\n",
       "    }\n",
       "</style>\n",
       "<table border=\"1\" class=\"dataframe\">\n",
       "  <thead>\n",
       "    <tr style=\"text-align: right;\">\n",
       "      <th></th>\n",
       "      <th>num_id</th>\n",
       "      <th>NumericColumn</th>\n",
       "      <th>NumericColumn_exepted</th>\n",
       "      <th>NumericColumn2</th>\n",
       "      <th>NumericColumn3</th>\n",
       "      <th>DateColumn</th>\n",
       "      <th>DateColumn2</th>\n",
       "      <th>DateColumn3</th>\n",
       "      <th>CharColumn</th>\n",
       "    </tr>\n",
       "  </thead>\n",
       "  <tbody>\n",
       "    <tr>\n",
       "      <th>0</th>\n",
       "      <td>1</td>\n",
       "      <td>1.0</td>\n",
       "      <td>1.0</td>\n",
       "      <td>NaN</td>\n",
       "      <td>1</td>\n",
       "      <td>2022-01-01</td>\n",
       "      <td>NaT</td>\n",
       "      <td>2122-05-01</td>\n",
       "      <td>Fół</td>\n",
       "    </tr>\n",
       "    <tr>\n",
       "      <th>1</th>\n",
       "      <td>2</td>\n",
       "      <td>-inf</td>\n",
       "      <td>-996.0</td>\n",
       "      <td>NaN</td>\n",
       "      <td>2</td>\n",
       "      <td>2022-01-02</td>\n",
       "      <td>2022-01-01</td>\n",
       "      <td>2022-01-01</td>\n",
       "      <td>None</td>\n",
       "    </tr>\n",
       "    <tr>\n",
       "      <th>2</th>\n",
       "      <td>3</td>\n",
       "      <td>inf</td>\n",
       "      <td>inf</td>\n",
       "      <td>1.0</td>\n",
       "      <td>3</td>\n",
       "      <td>2022-01-03</td>\n",
       "      <td>NaT</td>\n",
       "      <td>2021-01-01</td>\n",
       "      <td>NaN</td>\n",
       "    </tr>\n",
       "    <tr>\n",
       "      <th>3</th>\n",
       "      <td>4</td>\n",
       "      <td>NaN</td>\n",
       "      <td>NaN</td>\n",
       "      <td>NaN</td>\n",
       "      <td>4</td>\n",
       "      <td>2022-01-04</td>\n",
       "      <td>NaT</td>\n",
       "      <td>1000-01-09</td>\n",
       "      <td>nót eXpęćTęd</td>\n",
       "    </tr>\n",
       "    <tr>\n",
       "      <th>4</th>\n",
       "      <td>5</td>\n",
       "      <td>NaN</td>\n",
       "      <td>NaN</td>\n",
       "      <td>NaN</td>\n",
       "      <td>5</td>\n",
       "      <td>2022-01-05</td>\n",
       "      <td>NaT</td>\n",
       "      <td>1850-01-09</td>\n",
       "      <td></td>\n",
       "    </tr>\n",
       "  </tbody>\n",
       "</table>\n",
       "</div>"
      ],
      "text/plain": [
       "   num_id  NumericColumn  NumericColumn_exepted  NumericColumn2  \\\n",
       "0       1            1.0                    1.0             NaN   \n",
       "1       2           -inf                 -996.0             NaN   \n",
       "2       3            inf                    inf             1.0   \n",
       "3       4            NaN                    NaN             NaN   \n",
       "4       5            NaN                    NaN             NaN   \n",
       "\n",
       "   NumericColumn3 DateColumn DateColumn2 DateColumn3    CharColumn  \n",
       "0               1 2022-01-01         NaT  2122-05-01           Fół  \n",
       "1               2 2022-01-02  2022-01-01  2022-01-01          None  \n",
       "2               3 2022-01-03         NaT  2021-01-01           NaN  \n",
       "3               4 2022-01-04         NaT  1000-01-09  nót eXpęćTęd  \n",
       "4               5 2022-01-05         NaT  1850-01-09                "
      ]
     },
     "execution_count": 22,
     "metadata": {},
     "output_type": "execute_result"
    }
   ],
   "source": [
    "df = pd.DataFrame({\n",
    "    'num_id' : [1, 2, 3, 4, 5],\n",
    "    'NumericColumn': [1, -np.inf, np.inf,np.nan, None],\n",
    "    'NumericColumn_exepted': [1, -996, np.inf,np.nan, None],\n",
    "    'NumericColumn2': [None, None, 1,None, None],\n",
    "    'NumericColumn3': [1, 2, 3, 4, 5],\n",
    "    'DateColumn': pd.date_range(start='2022-01-01', periods=5),\n",
    "    'DateColumn2': [pd.NaT,pd.to_datetime('2022-01-01'),pd.NaT,pd.NaT,pd.NaT],\n",
    "    'DateColumn3': ['2122-05-01',\n",
    "                    '2022-01-01',\n",
    "                    '2021-01-01',\n",
    "                    '1000-01-09',\n",
    "                    '1850-01-09'],\n",
    "    'CharColumn': ['Fół', None, np.nan, 'nót eXpęćTęd', '']\n",
    "})\n",
    "\n",
    "df"
   ]
  },
  {
   "cell_type": "markdown",
   "id": "ef2ca7d8-a488-49e9-a718-45b1b342bcba",
   "metadata": {},
   "source": [
    "#### Defining specification for the dataframe "
   ]
  },
  {
   "cell_type": "code",
   "execution_count": 3,
   "id": "335de874-067c-4e87-b3aa-e8d5dc1d73c6",
   "metadata": {},
   "outputs": [],
   "source": [
    "MISSING_TYPES = {'date_not_delivered': '1850-01-09',\n",
    "                 'date_other_missing_type': '1850-01-08',\n",
    "                 'numeric_not_delivered': -999,\n",
    "                 'character_not_delivered': 'missing'}"
   ]
  },
  {
   "cell_type": "code",
   "execution_count": 4,
   "id": "e6403106-7885-4d95-82db-cbbc751c6529",
   "metadata": {},
   "outputs": [],
   "source": [
    "unexpected_exceptions = {\n",
    "    \"col_names_types\": \"NONE\",\n",
    "    \"missing_values\": \"ALL\",\n",
    "    \"missing_types\": \"ALL\",\n",
    "    \"inf_values\": \"NONE\",\n",
    "    \"date_format\": \"NONE\",\n",
    "    \"duplicates\": \"ALL\",\n",
    "    \"date_range\": \"NONE\",\n",
    "    \"numeric_range\": \"ALL\"\n",
    "}"
   ]
  },
  {
   "cell_type": "code",
   "execution_count": 5,
   "id": "d4a2baea-34e7-42b6-8277-f5901a525b4b",
   "metadata": {},
   "outputs": [],
   "source": [
    "replace_dict = {-996 : -999,\n",
    "                \"1000-01-09\": \"1850-01-09\"}"
   ]
  },
  {
   "cell_type": "markdown",
   "id": "b7053ebf-9c9e-4838-bdc1-ff5063eff426",
   "metadata": {},
   "source": [
    "### Initializing Refiner class"
   ]
  },
  {
   "cell_type": "code",
   "execution_count": 6,
   "id": "b4e38ec1-37ab-48ac-a9d1-64a9e260236d",
   "metadata": {},
   "outputs": [],
   "source": [
    "tns = Refiner(dataframe = df,\n",
    "              replace_dict = replace_dict,\n",
    "              loggerLvl = logging.DEBUG,\n",
    "              unexpected_exceptions_duv = unexpected_exceptions)"
   ]
  },
  {
   "cell_type": "markdown",
   "id": "b846eeb0-bdb1-460a-92ef-a222755b2f41",
   "metadata": {},
   "source": [
    "#### using the main function to detect unexpected values"
   ]
  },
  {
   "cell_type": "code",
   "execution_count": 7,
   "id": "c570a32e-e473-4d43-97ff-42803b5bd394",
   "metadata": {},
   "outputs": [
    {
     "name": "stderr",
     "output_type": "stream",
     "text": [
      "DEBUG:Refiner:=== checking column names and types\n",
      "DEBUG:Refiner:=== checking propper date format\n",
      "WARNING:Refiner:Column DateColumn2 has non-date values or unexpected format.\n",
      "DEBUG:Refiner:=== checking expected date range\n",
      "DEBUG:Refiner:=== checking for presense of inf values in numeric colums\n",
      "WARNING:Refiner:Column NumericColumn: (INF) : 2 : 40.00%\n",
      "WARNING:Refiner:Column NumericColumn_exepted: (INF) : 1 : 20.00%\n",
      "WARNING:Refiner:Percentage of passed tests: 66.67%\n"
     ]
    }
   ],
   "source": [
    "tns.detect_unexpected_values()"
   ]
  },
  {
   "cell_type": "markdown",
   "id": "7c78b43c",
   "metadata": {},
   "source": [
    "#### extracting Refiner settings <a name=\"extracting-refiner-class-settings\"></a>"
   ]
  },
  {
   "cell_type": "code",
   "execution_count": 16,
   "id": "b3d3b574",
   "metadata": {},
   "outputs": [
    {
     "data": {
      "text/plain": [
       "{'replace_dict': {-996: -999, '1000-01-09': '1850-01-09'},\n",
       " 'MISSING_TYPES': {'date_not_delivered': '1850-01-09',\n",
       "  'numeric_not_delivered': -999,\n",
       "  'character_not_delivered': 'missing'},\n",
       " 'expected_date_format': '%Y-%m-%d',\n",
       " 'mess': 'INITIAL PREPROCESSING',\n",
       " 'shout_type': 'HEAD2',\n",
       " 'logger': <Logger Refiner (DEBUG)>,\n",
       " 'logger_name': 'Refiner',\n",
       " 'loggerLvl': 10,\n",
       " 'dotline_length': 50,\n",
       " 'lower_bound': -inf,\n",
       " 'upper_bound': inf,\n",
       " 'earliest_date': '1900-08-25',\n",
       " 'latest_date': '2100-01-01',\n",
       " 'unexpected_exceptions_duv': {'col_names_types': 'NONE',\n",
       "  'missing_values': 'ALL',\n",
       "  'missing_types': 'ALL',\n",
       "  'inf_values': 'NONE',\n",
       "  'date_format': 'NONE',\n",
       "  'duplicates': 'ALL',\n",
       "  'date_range': 'NONE',\n",
       "  'numeric_range': 'ALL'},\n",
       " 'unexpected_exceptions_ruv': {'irregular_values': 'NONE',\n",
       "  'date_range': 'NONE',\n",
       "  'numeric_range': 'NONE',\n",
       "  'capitalization': 'NONE',\n",
       "  'unicode_character': 'NONE'},\n",
       " 'unexpected_conditions': None,\n",
       " 'ignore_values': [],\n",
       " 'ignore_dates': [],\n",
       " 'type_dict': {}}"
      ]
     },
     "execution_count": 16,
     "metadata": {},
     "output_type": "execute_result"
    }
   ],
   "source": [
    "refiner_settings = tns.get_refiner_settings()\n",
    "refiner_settings"
   ]
  },
  {
   "cell_type": "markdown",
   "id": "de7fab2d",
   "metadata": {},
   "source": [
    "### Initializing new clean Refiner"
   ]
  },
  {
   "cell_type": "code",
   "execution_count": 9,
   "id": "c251f10c",
   "metadata": {},
   "outputs": [],
   "source": [
    "tns2 = Refiner(dataframe = df)"
   ]
  },
  {
   "cell_type": "markdown",
   "id": "c9b0a689",
   "metadata": {},
   "source": [
    "#### detection before applying settings"
   ]
  },
  {
   "cell_type": "code",
   "execution_count": 10,
   "id": "ffa547d2",
   "metadata": {},
   "outputs": [
    {
     "name": "stderr",
     "output_type": "stream",
     "text": [
      "WARNING:Refiner:Column CharColumn: (NA) : 2 : 40.00%\n",
      "WARNING:Refiner:Column DateColumn2: (NA) : 4 : 80.00%\n",
      "WARNING:Refiner:Column NumericColumn: (NA) : 2 : 40.00%\n",
      "WARNING:Refiner:Column NumericColumn_exepted: (NA) : 2 : 40.00%\n",
      "WARNING:Refiner:Column NumericColumn2: (NA) : 4 : 80.00%\n",
      "WARNING:Refiner:Column DateColumn3: (1850-01-09) : 1 : 20.00%\n",
      "WARNING:Refiner:Column DateColumn2 has non-date values or unexpected format.\n",
      "WARNING:Refiner:Column NumericColumn: (INF) : 2 : 40.00%\n",
      "WARNING:Refiner:Column NumericColumn_exepted: (INF) : 1 : 20.00%\n",
      "WARNING:Refiner:Percentage of passed tests: 71.43%\n"
     ]
    }
   ],
   "source": [
    "tns2.detect_unexpected_values()"
   ]
  },
  {
   "cell_type": "markdown",
   "id": "ca9d4c89",
   "metadata": {},
   "source": [
    "#### using saved refiner settings for new instance <a name=\"recreating-refiner-class-settings\"></a> "
   ]
  },
  {
   "cell_type": "code",
   "execution_count": 11,
   "id": "5adb6b37",
   "metadata": {},
   "outputs": [],
   "source": [
    "tns2.set_refiner_settings(refiner_settings)"
   ]
  },
  {
   "cell_type": "code",
   "execution_count": 12,
   "id": "704abe57",
   "metadata": {},
   "outputs": [
    {
     "name": "stderr",
     "output_type": "stream",
     "text": [
      "DEBUG:Refiner:=== checking column names and types\n",
      "DEBUG:Refiner:=== checking propper date format\n",
      "WARNING:Refiner:Column DateColumn2 has non-date values or unexpected format.\n",
      "DEBUG:Refiner:=== checking expected date range\n",
      "DEBUG:Refiner:=== checking for presense of inf values in numeric colums\n",
      "WARNING:Refiner:Column NumericColumn: (INF) : 2 : 40.00%\n",
      "WARNING:Refiner:Column NumericColumn_exepted: (INF) : 1 : 20.00%\n",
      "WARNING:Refiner:Percentage of passed tests: 66.67%\n"
     ]
    }
   ],
   "source": [
    "tns2.detect_unexpected_values()"
   ]
  }
 ],
 "metadata": {
  "kernelspec": {
   "display_name": "Python 3 (ipykernel)",
   "language": "python",
   "name": "python3"
  },
  "language_info": {
   "codemirror_mode": {
    "name": "ipython",
    "version": 3
   },
   "file_extension": ".py",
   "mimetype": "text/x-python",
   "name": "python",
   "nbconvert_exporter": "python",
   "pygments_lexer": "ipython3",
   "version": "3.9.16"
  },
  "vscode": {
   "interpreter": {
    "hash": "7cf2087be695df4a22794687569e2b1da62e798e075897974c6ba7e5291369f7"
   }
  }
 },
 "nbformat": 4,
 "nbformat_minor": 5
}
