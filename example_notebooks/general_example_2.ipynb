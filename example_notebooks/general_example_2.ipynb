{
 "cells": [
  {
   "cell_type": "markdown",
   "id": "ced7994f",
   "metadata": {},
   "source": [
    "### Refiner class settings <a name=\"refiner-class-settings\"></a>"
   ]
  },
  {
   "cell_type": "code",
   "execution_count": 1,
   "id": "3b1d10dd-0445-48b9-8c69-8a93188443d1",
   "metadata": {
    "hide_input": true
   },
   "outputs": [],
   "source": [
    "import os \n",
    "import sys \n",
    "import numpy as np\n",
    "import pandas as pd\n",
    "import logging\n",
    "sys.path.append(os.path.dirname(sys.path[0])) \n",
    "from refineryframe.refiner import Refiner\n",
    "from refineryframe.demo import tiny_example"
   ]
  },
  {
   "cell_type": "markdown",
   "id": "b7053ebf-9c9e-4838-bdc1-ff5063eff426",
   "metadata": {},
   "source": [
    "### Initializing Refiner class"
   ]
  },
  {
   "cell_type": "code",
   "execution_count": 2,
   "id": "b4e38ec1-37ab-48ac-a9d1-64a9e260236d",
   "metadata": {},
   "outputs": [],
   "source": [
    "tns = Refiner(dataframe = tiny_example['dataframe'],\n",
    "              replace_dict = tiny_example['replace_dict'],\n",
    "              loggerLvl = logging.DEBUG,\n",
    "              unexpected_exceptions_duv = {\n",
    "                                            \"col_names_types\": \"NONE\",\n",
    "                                            \"missing_values\": \"ALL\",\n",
    "                                            \"missing_types\": \"ALL\",\n",
    "                                            \"inf_values\": \"NONE\",\n",
    "                                            \"date_format\": \"NONE\",\n",
    "                                            \"duplicates\": \"ALL\",\n",
    "                                            \"date_range\": \"NONE\",\n",
    "                                            \"numeric_range\": \"ALL\"\n",
    "                                        })"
   ]
  },
  {
   "cell_type": "markdown",
   "id": "b846eeb0-bdb1-460a-92ef-a222755b2f41",
   "metadata": {},
   "source": [
    "#### using the main function to detect unexpected values"
   ]
  },
  {
   "cell_type": "code",
   "execution_count": 3,
   "id": "c570a32e-e473-4d43-97ff-42803b5bd394",
   "metadata": {},
   "outputs": [
    {
     "name": "stderr",
     "output_type": "stream",
     "text": [
      "DEBUG:Refiner:=== checking for column name duplicates\n",
      "DEBUG:Refiner:=== checking column names and types\n",
      "DEBUG:Refiner:=== checking propper date format\n",
      "WARNING:Refiner:Column DateColumn2 has non-date values or unexpected format.\n",
      "DEBUG:Refiner:=== checking expected date range\n",
      "DEBUG:Refiner:=== checking for presense of inf values in numeric colums\n",
      "WARNING:Refiner:Column NumericColumn: (INF) : 2 : 40.00%\n",
      "WARNING:Refiner:Column NumericColumn_exepted: (INF) : 1 : 20.00%\n",
      "WARNING:Refiner:Percentage of passed tests: 71.43%\n"
     ]
    }
   ],
   "source": [
    "tns.detect_unexpected_values()"
   ]
  },
  {
   "cell_type": "markdown",
   "id": "7c78b43c",
   "metadata": {},
   "source": [
    "#### extracting Refiner settings <a name=\"extracting-refiner-class-settings\"></a>"
   ]
  },
  {
   "cell_type": "code",
   "execution_count": 4,
   "id": "b3d3b574",
   "metadata": {},
   "outputs": [
    {
     "data": {
      "text/plain": [
       "{'replace_dict': {-996: -999, '1000-01-09': '1850-01-09'},\n",
       " 'MISSING_TYPES': {'date_not_delivered': '1850-01-09',\n",
       "  'numeric_not_delivered': -999,\n",
       "  'character_not_delivered': 'missing'},\n",
       " 'expected_date_format': '%Y-%m-%d',\n",
       " 'mess': 'INITIAL PREPROCESSING',\n",
       " 'shout_type': 'HEAD2',\n",
       " 'logger_name': 'Refiner',\n",
       " 'loggerLvl': 10,\n",
       " 'dotline_length': 50,\n",
       " 'lower_bound': -inf,\n",
       " 'upper_bound': inf,\n",
       " 'earliest_date': '1900-08-25',\n",
       " 'latest_date': '2100-01-01',\n",
       " 'ids_for_dedup': 'ALL',\n",
       " 'unexpected_exceptions_duv': {'col_names_types': 'NONE',\n",
       "  'missing_values': 'ALL',\n",
       "  'missing_types': 'ALL',\n",
       "  'inf_values': 'NONE',\n",
       "  'date_format': 'NONE',\n",
       "  'duplicates': 'ALL',\n",
       "  'date_range': 'NONE',\n",
       "  'numeric_range': 'ALL'},\n",
       " 'unexpected_exceptions_ruv': {'irregular_values': 'NONE',\n",
       "  'date_range': 'NONE',\n",
       "  'numeric_range': 'NONE',\n",
       "  'capitalization': 'NONE',\n",
       "  'unicode_character': 'NONE'},\n",
       " 'unexpected_exceptions_error': {'col_name_duplicates': False,\n",
       "  'col_names_types': False,\n",
       "  'missing_values': False,\n",
       "  'missing_types': False,\n",
       "  'inf_values': False,\n",
       "  'date_format': False,\n",
       "  'duplicates': False,\n",
       "  'date_range': False,\n",
       "  'numeric_range': False},\n",
       " 'unexpected_conditions': None,\n",
       " 'ignore_values': [],\n",
       " 'ignore_dates': [],\n",
       " 'type_dict': {}}"
      ]
     },
     "execution_count": 4,
     "metadata": {},
     "output_type": "execute_result"
    }
   ],
   "source": [
    "refiner_settings = tns.get_refiner_settings()\n",
    "refiner_settings"
   ]
  },
  {
   "cell_type": "markdown",
   "id": "de7fab2d",
   "metadata": {},
   "source": [
    "### Initializing new clean Refiner"
   ]
  },
  {
   "cell_type": "code",
   "execution_count": 5,
   "id": "c251f10c",
   "metadata": {},
   "outputs": [],
   "source": [
    "tns2 = Refiner(dataframe = tiny_example['dataframe'])"
   ]
  },
  {
   "cell_type": "markdown",
   "id": "9ee6ce0c",
   "metadata": {},
   "source": [
    "#### scanning dataframe for unexpected conditions <a name=\"scanning-dataframe\"></a>"
   ]
  },
  {
   "cell_type": "code",
   "execution_count": 6,
   "id": "4d05819f",
   "metadata": {},
   "outputs": [
    {
     "name": "stderr",
     "output_type": "stream",
     "text": [
      "WARNING:Refiner:Column CharColumn: (NA) : 2 : 40.00%\n",
      "WARNING:Refiner:Column DateColumn2: (NA) : 4 : 80.00%\n",
      "WARNING:Refiner:Column NumericColumn: (NA) : 2 : 40.00%\n",
      "WARNING:Refiner:Column NumericColumn_exepted: (NA) : 2 : 40.00%\n",
      "WARNING:Refiner:Column NumericColumn2: (NA) : 4 : 80.00%\n",
      "WARNING:Refiner:Column DateColumn3: (1850-01-09) : 1 : 20.00%\n",
      "WARNING:Refiner:Column DateColumn2 has non-date values or unexpected format.\n",
      "WARNING:Refiner:Column NumericColumn: (INF) : 2 : 40.00%\n",
      "WARNING:Refiner:Column NumericColumn_exepted: (INF) : 1 : 20.00%\n",
      "WARNING:Refiner:Percentage of passed tests: 73.33%\n"
     ]
    },
    {
     "data": {
      "text/plain": [
       "{'col_names_types': 'NONE',\n",
       " 'missing_values': 'ALL',\n",
       " 'missing_types': 'ALL',\n",
       " 'inf_values': 'ALL',\n",
       " 'date_format': 'ALL',\n",
       " 'duplicates': 'NONE',\n",
       " 'date_range': 'NONE',\n",
       " 'numeric_range': 'NONE'}"
      ]
     },
     "execution_count": 6,
     "metadata": {},
     "output_type": "execute_result"
    }
   ],
   "source": [
    "scanned_unexpected_exceptions = tns2.get_unexpected_exceptions_scaned()\n",
    "scanned_unexpected_exceptions"
   ]
  },
  {
   "cell_type": "markdown",
   "id": "c9b0a689",
   "metadata": {},
   "source": [
    "#### detection before applying settings"
   ]
  },
  {
   "cell_type": "code",
   "execution_count": 7,
   "id": "ffa547d2",
   "metadata": {},
   "outputs": [
    {
     "name": "stderr",
     "output_type": "stream",
     "text": [
      "WARNING:Refiner:Column CharColumn: (NA) : 2 : 40.00%\n",
      "WARNING:Refiner:Column DateColumn2: (NA) : 4 : 80.00%\n",
      "WARNING:Refiner:Column NumericColumn: (NA) : 2 : 40.00%\n",
      "WARNING:Refiner:Column NumericColumn_exepted: (NA) : 2 : 40.00%\n",
      "WARNING:Refiner:Column NumericColumn2: (NA) : 4 : 80.00%\n",
      "WARNING:Refiner:Column DateColumn3: (1850-01-09) : 1 : 20.00%\n",
      "WARNING:Refiner:Column DateColumn2 has non-date values or unexpected format.\n",
      "WARNING:Refiner:Column NumericColumn: (INF) : 2 : 40.00%\n",
      "WARNING:Refiner:Column NumericColumn_exepted: (INF) : 1 : 20.00%\n",
      "WARNING:Refiner:Percentage of passed tests: 73.33%\n"
     ]
    }
   ],
   "source": [
    "tns2.detect_unexpected_values()"
   ]
  },
  {
   "cell_type": "markdown",
   "id": "ca9d4c89",
   "metadata": {},
   "source": [
    "#### using saved refiner settings for new instance <a name=\"recreating-refiner-class-settings\"></a> "
   ]
  },
  {
   "cell_type": "code",
   "execution_count": 8,
   "id": "5adb6b37",
   "metadata": {},
   "outputs": [],
   "source": [
    "tns2.set_refiner_settings(refiner_settings)"
   ]
  },
  {
   "cell_type": "code",
   "execution_count": 9,
   "id": "704abe57",
   "metadata": {},
   "outputs": [
    {
     "name": "stderr",
     "output_type": "stream",
     "text": [
      "DEBUG:Refiner:=== checking for column name duplicates\n",
      "DEBUG:Refiner:=== checking column names and types\n",
      "DEBUG:Refiner:=== checking propper date format\n",
      "WARNING:Refiner:Column DateColumn2 has non-date values or unexpected format.\n",
      "DEBUG:Refiner:=== checking expected date range\n",
      "DEBUG:Refiner:=== checking for presense of inf values in numeric colums\n",
      "WARNING:Refiner:Column NumericColumn: (INF) : 2 : 40.00%\n",
      "WARNING:Refiner:Column NumericColumn_exepted: (INF) : 1 : 20.00%\n",
      "WARNING:Refiner:Percentage of passed tests: 71.43%\n"
     ]
    }
   ],
   "source": [
    "tns2.detect_unexpected_values()"
   ]
  },
  {
   "cell_type": "code",
   "execution_count": 10,
   "id": "e3bbffd3",
   "metadata": {},
   "outputs": [],
   "source": [
    "tns3 = Refiner(dataframe = tiny_example['dataframe'], \n",
    "               unexpected_exceptions_duv = scanned_unexpected_exceptions)"
   ]
  },
  {
   "cell_type": "code",
   "execution_count": 11,
   "id": "cf85e1db",
   "metadata": {},
   "outputs": [
    {
     "name": "stdout",
     "output_type": "stream",
     "text": [
      "duv score: 1.0\n"
     ]
    }
   ],
   "source": [
    "tns3.detect_unexpected_values()\n",
    "print(f'duv score: {tns3.duv_score}')"
   ]
  }
 ],
 "metadata": {
  "kernelspec": {
   "display_name": "Python 3 (ipykernel)",
   "language": "python",
   "name": "python3"
  },
  "language_info": {
   "codemirror_mode": {
    "name": "ipython",
    "version": 3
   },
   "file_extension": ".py",
   "mimetype": "text/x-python",
   "name": "python",
   "nbconvert_exporter": "python",
   "pygments_lexer": "ipython3",
   "version": "3.9.16"
  },
  "vscode": {
   "interpreter": {
    "hash": "7cf2087be695df4a22794687569e2b1da62e798e075897974c6ba7e5291369f7"
   }
  }
 },
 "nbformat": 4,
 "nbformat_minor": 5
}
